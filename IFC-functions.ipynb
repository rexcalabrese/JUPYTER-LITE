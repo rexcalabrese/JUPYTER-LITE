{
 "cells": [
  {
   "cell_type": "code",
   "execution_count": 4,
   "metadata": {
    "scrolled": false
   },
   "outputs": [
    {
     "data": {
      "text/markdown": [
       "$\\text{ISENTROPIC RELATIONS}$"
      ],
      "text/plain": [
       "<IPython.core.display.Markdown object>"
      ]
     },
     "metadata": {},
     "output_type": "display_data"
    },
    {
     "data": {
      "application/vnd.jupyter.widget-view+json": {
       "model_id": "587cfdf3a98947e899f0bffcacd51ec1",
       "version_major": 2,
       "version_minor": 0
      },
      "text/plain": [
       "interactive(children=(FloatSlider(value=1.0, continuous_update=False, description='M', max=4.0), FloatSlider(v…"
      ]
     },
     "metadata": {},
     "output_type": "display_data"
    }
   ],
   "source": [
    "%matplotlib inline\n",
    "import ipywidgets as widgets\n",
    "import matplotlib.pyplot as plt\n",
    "from ipywidgets import interact\n",
    "from IPython.display import HTML, display\n",
    "from IPython.display import display, Math,Markdown,Latex\n",
    "import numpy as np\n",
    "\n",
    "#display(Latex(r'$\\Large\\text{Isentropic Flow Properties}$'))\n",
    "#display(Latex(r'$\\frac{p_{o}}{p}=\\left(1+\\frac{\\gamma-1}{2} M^{2}\\right)^{\\gamma /(\\gamma-1)}$'))\n",
    "#display(Latex(r'$\\frac{\\rho_{o}}{\\rho}=\\left(1+\\frac{\\gamma-1}{2} M^{2}\\right)^{1 /(\\gamma-1)}$'))\n",
    "#display(Latex(r'$\\frac{T_{o}}{T}=1+\\frac{\\gamma-1}{2} M^{2}$'))\n",
    "\n",
    "display(Markdown(r'$\\text{ISENTROPIC RELATIONS}$'))\n",
    "tex_rho0_on_rho =  r'$\\frac{\\rho_{o}}{\\rho}$'\n",
    "tex_p0_on_p = r'$\\frac{p_o}{p}$'\n",
    "tex_T0_on_T = r'$\\frac{T_o}{T}$'\n",
    "\n",
    "\n",
    "def p0_on_p(M,gamma):\n",
    "    return (1 + 0.5*(gamma-1) * M**2)**(gamma / (gamma-1))\n",
    "\n",
    "def rho0_on_rho(M,gamma):\n",
    "    return (1 + 0.5*(gamma-1) * M**2)**(1 / (gamma-1))\n",
    "\n",
    "def T0_on_T(M,gamma):\n",
    "    return (1 + 0.5*(gamma-1) * M**2)\n",
    "\n",
    "####################\n",
    "max1=10\n",
    "M_table = np.linspace(0,max1,30)\n",
    "###########################\n",
    "#plt.figure()\n",
    "#fig, ax = plt.subplots()\n",
    "\n",
    "line = -0.18\n",
    "scat_size = 40\n",
    "\n",
    "\n",
    "\n",
    "def update(M=1,gamma=1.4):\n",
    "    ####################\n",
    "    max1=M * 1.5 \n",
    "    max1 = 4\n",
    "    M_table = np.linspace(0,max1,30)\n",
    "    ###########################\n",
    "    \n",
    "    \n",
    "    fig, ax = plt.subplots(dpi=300,figsize=(6,4))\n",
    "    def add_text(linenum=1,tex='',number=0):\n",
    "        ax.text(0, linenum*-0.12,tex +'{0:.4f}'.format(number),\n",
    "        horizontalalignment='left',\n",
    "        verticalalignment='bottom',\n",
    "        size='x-large',\n",
    "        #bbox=dict(facecolor='red', alpha=0.1),\n",
    "        transform = ax.transAxes)\n",
    "    \n",
    "\n",
    "    \n",
    "    p0p_1 = p0_on_p(M,gamma)\n",
    "    line1, = ax.plot(M_table,p0_on_p(M_table,np.zeros(M_table.shape)+gamma), 'b--') #p0_on_p(M_table,M_table*0+gamma)\n",
    "    scat1 = ax.scatter(M,p0p_1, s=scat_size,c='blue')\n",
    "    \n",
    "    rho0_on_rho_1 = rho0_on_rho(M,gamma)\n",
    "    ax.plot(M_table,rho0_on_rho(M_table,np.zeros(M_table.shape)+gamma), 'g--') #p0_on_p(M_table,M_table*0+gamma)\n",
    "    ax.scatter(M,rho0_on_rho_1, s=scat_size,c='green')\n",
    "    \n",
    "    \n",
    "    T0_on_T_1 = T0_on_T(M,gamma)\n",
    "    ax.plot(M_table,T0_on_T(M_table,np.zeros(M_table.shape)+gamma), 'r--') #p0_on_p(M_table,M_table*0+gamma)\n",
    "    ax.scatter(M,T0_on_T_1, s=scat_size,c='red')\n",
    "    \n",
    "    #ax.text(M,p0p_1+p0p_1*0.1,r'$M=$'+'{0:.3f}'.format(M),\n",
    "     #       size=10,\n",
    "     #       bbox=dict(facecolor='white', alpha=0.9))\n",
    "    \n",
    "    \n",
    "    line = -0.11\n",
    "    ypos_0 = 0.7 #-0.1\n",
    "    xpos_0 =0.02\n",
    "    ax.text(xpos_0, ypos_0+1*line,r'$M = $'+'{0:.4f}'.format(M),\n",
    "        horizontalalignment='left',\n",
    "        verticalalignment='bottom',\n",
    "        size='small',\n",
    "        bbox=dict(facecolor='white', alpha=0.5),\n",
    "        transform = ax.transAxes)\n",
    "        \n",
    "    ax.text(xpos_0, ypos_0+2*line,r'$\\frac{p_{o}}{p}=$'+'{0:.3f}'.format(p0p_1),\n",
    "        horizontalalignment='left',\n",
    "        verticalalignment='bottom',\n",
    "        size='small',\n",
    "        bbox=dict(facecolor='blue', alpha=0.3),\n",
    "        transform = ax.transAxes)\n",
    "    \n",
    "    ax.text(xpos_0, ypos_0+3*line,r'$\\frac{\\rho_{o}}{\\rho}=$'+'{0:.3f}'.format(rho0_on_rho_1),\n",
    "        horizontalalignment='left',\n",
    "        verticalalignment='bottom',\n",
    "        size='small',\n",
    "        bbox=dict(facecolor='green', alpha=0.3),\n",
    "        transform = ax.transAxes)\n",
    "    \n",
    "    ax.text(xpos_0, ypos_0+4*line,r'$\\frac{T_{o}}{T}=$'+'{0:.3f}'.format(T0_on_T_1),\n",
    "        horizontalalignment='left',\n",
    "        verticalalignment='bottom',\n",
    "        size='small',\n",
    "        bbox=dict(facecolor='Red', alpha=0.3),\n",
    "        transform = ax.transAxes)\n",
    "    ax.legend([tex_rho0_on_rho,tex_p0_on_p,tex_T0_on_T])\n",
    "    \n",
    "    plt.show()\n",
    "    plt.clf()\n",
    "\n",
    "    return \n",
    "\n",
    "interact(update, M= widgets.FloatSlider(value=1, min=0, max=4, step=0.1,continuous_update=False), \n",
    "                 gamma= widgets.FloatSlider(value=1.4, min=1.1, max=2, step=0.1,continuous_update=False) );\n",
    "\n",
    "#M_max= widgets.IntSlider(value=1, min=1, max=4, step=1,) ,"
   ]
  },
  {
   "cell_type": "code",
   "execution_count": null,
   "metadata": {},
   "outputs": [],
   "source": []
  }
 ],
 "metadata": {
  "kernelspec": {
   "display_name": "Python 3",
   "language": "python",
   "name": "python3"
  },
  "language_info": {
   "codemirror_mode": {
    "name": "ipython",
    "version": 3
   },
   "file_extension": ".py",
   "mimetype": "text/x-python",
   "name": "python",
   "nbconvert_exporter": "python",
   "pygments_lexer": "ipython3",
   "version": "3.7.4"
  }
 },
 "nbformat": 4,
 "nbformat_minor": 2
}
