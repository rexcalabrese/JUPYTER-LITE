{
 "cells": [
  {
   "cell_type": "raw",
   "metadata": {},
   "source": [
    "\n",
    "import ipywidgets as widgets\n",
    "\n",
    "\n",
    "\n",
    "M = widgets.FloatSlider(\n",
    "    value=7.5,\n",
    "    min=0,\n",
    "    max=10.0,\n",
    "    step=0.1,\n",
    "    description='Test:',\n",
    "    disabled=False,\n",
    "    continuous_update=False,\n",
    "    orientation='horizontal',\n",
    "    readout=True,\n",
    "    readout_format='.1f',\n",
    ")\n",
    "\n",
    "\n",
    "\n",
    "p0 = widgets.FloatSlider(\n",
    "    value=7.5,\n",
    "    min=0,\n",
    "    max=10.0,\n",
    "    step=0.1,\n",
    "    description='Test:',\n",
    "    disabled=False,\n",
    "    continuous_update=False,\n",
    "    orientation='horizontal',\n",
    "    readout=True,\n",
    "    readout_format='.1f',\n",
    ")\n",
    "p = widgets.FloatSlider(\n",
    "    value=7.5,\n",
    "    min=0,\n",
    "    max=10.0,\n",
    "    step=0.1,\n",
    "    description='Test:',\n",
    "    disabled=False,\n",
    "    continuous_update=False,\n",
    "    orientation='horizontal',\n",
    "    readout=True,\n",
    "    readout_format='.1f',\n",
    ")\n",
    "gamma = widgets.FloatSlider(\n",
    "    value=7.5,\n",
    "    min=0,\n",
    "    max=10.0,\n",
    "    step=0.1,\n",
    "    description='Test:',\n",
    "    disabled=False,\n",
    "    continuous_update=False,\n",
    "    orientation='horizontal',\n",
    "    readout=True,\n",
    "    readout_format='.1f',\n",
    ")"
   ]
  },
  {
   "cell_type": "code",
   "execution_count": 6,
   "metadata": {
    "scrolled": false
   },
   "outputs": [
    {
     "data": {
      "text/markdown": [
       "$\\text{ISENTROPIC RELATIONS}$"
      ],
      "text/plain": [
       "<IPython.core.display.Markdown object>"
      ]
     },
     "metadata": {},
     "output_type": "display_data"
    },
    {
     "data": {
      "application/vnd.jupyter.widget-view+json": {
       "model_id": "053d48e530944720bc2142f6c0f94abd",
       "version_major": 2,
       "version_minor": 0
      },
      "text/plain": [
       "interactive(children=(FloatSlider(value=1.0, continuous_update=False, description='M', max=4.0), FloatSlider(v…"
      ]
     },
     "metadata": {},
     "output_type": "display_data"
    }
   ],
   "source": [
    "%matplotlib inline\n",
    "import ipywidgets as widgets\n",
    "from numba import jit,njit\n",
    "import matplotlib.pyplot as plt\n",
    "from ipywidgets import interact\n",
    "from IPython.display import HTML, display\n",
    "from IPython.display import display, Math,Markdown,Latex\n",
    "import tabulate\n",
    "import numpy as np\n",
    "\n",
    "#display(Latex(r'$\\Large\\text{Isentropic Flow Properties}$'))\n",
    "#display(Latex(r'$\\frac{p_{o}}{p}=\\left(1+\\frac{\\gamma-1}{2} M^{2}\\right)^{\\gamma /(\\gamma-1)}$'))\n",
    "#display(Latex(r'$\\frac{\\rho_{o}}{\\rho}=\\left(1+\\frac{\\gamma-1}{2} M^{2}\\right)^{1 /(\\gamma-1)}$'))\n",
    "#display(Latex(r'$\\frac{T_{o}}{T}=1+\\frac{\\gamma-1}{2} M^{2}$'))\n",
    "\n",
    "display(Markdown(r'$\\text{ISENTROPIC RELATIONS}$'))\n",
    "tex_rho0_on_rho =  r'$\\frac{\\rho_{o}}{\\rho}$'\n",
    "tex_p0_on_p = r'$\\frac{p_o}{p}$'\n",
    "tex_T0_on_T = r'$\\frac{T_o}{T}$'\n",
    "\n",
    "@jit\n",
    "def p0_on_p(M,gamma):\n",
    "    return (1 + 0.5*(gamma-1) * M**2)**(gamma / (gamma-1))\n",
    "@njit\n",
    "def rho0_on_rho(M,gamma):\n",
    "    return (1 + 0.5*(gamma-1) * M**2)**(1 / (gamma-1))\n",
    "@jit\n",
    "def T0_on_T(M,gamma):\n",
    "    return (1 + 0.5*(gamma-1) * M**2)\n",
    "\n",
    "####################\n",
    "max1=10\n",
    "M_table = np.linspace(0,max1,30)\n",
    "###########################\n",
    "#plt.figure()\n",
    "#fig, ax = plt.subplots()\n",
    "\n",
    "line = -0.18\n",
    "scat_size = 40\n",
    "\n",
    "\n",
    "\n",
    "def update(M=1,gamma=1.4):\n",
    "    ####################\n",
    "    max1=M * 1.5 \n",
    "    max1 = 4\n",
    "    M_table = np.linspace(0,max1,30)\n",
    "    ###########################\n",
    "    \n",
    "    \n",
    "    fig, ax = plt.subplots(dpi=300,figsize=(6,4))\n",
    "    def add_text(linenum=1,tex='',number=0):\n",
    "        ax.text(0, linenum*-0.12,tex +'{0:.4f}'.format(number),\n",
    "        horizontalalignment='left',\n",
    "        verticalalignment='bottom',\n",
    "        size='x-large',\n",
    "        #bbox=dict(facecolor='red', alpha=0.1),\n",
    "        transform = ax.transAxes)\n",
    "    \n",
    "\n",
    "    \n",
    "    p0p_1 = p0_on_p(M,gamma)\n",
    "    line1, = ax.plot(M_table,p0_on_p(M_table,np.zeros(M_table.shape)+gamma), 'b--') #p0_on_p(M_table,M_table*0+gamma)\n",
    "    scat1 = ax.scatter(M,p0p_1, s=scat_size,c='blue')\n",
    "    \n",
    "    rho0_on_rho_1 = rho0_on_rho(M,gamma)\n",
    "    ax.plot(M_table,rho0_on_rho(M_table,np.zeros(M_table.shape)+gamma), 'g--') #p0_on_p(M_table,M_table*0+gamma)\n",
    "    ax.scatter(M,rho0_on_rho_1, s=scat_size,c='green')\n",
    "    \n",
    "    \n",
    "    T0_on_T_1 = T0_on_T(M,gamma)\n",
    "    ax.plot(M_table,T0_on_T(M_table,np.zeros(M_table.shape)+gamma), 'r--') #p0_on_p(M_table,M_table*0+gamma)\n",
    "    ax.scatter(M,T0_on_T_1, s=scat_size,c='red')\n",
    "    \n",
    "    #ax.text(M,p0p_1+p0p_1*0.1,r'$M=$'+'{0:.3f}'.format(M),\n",
    "     #       size=10,\n",
    "     #       bbox=dict(facecolor='white', alpha=0.9))\n",
    "    \n",
    "    \n",
    "    line = -0.11\n",
    "    ypos_0 = 0.7 #-0.1\n",
    "    xpos_0 =0.02\n",
    "    ax.text(xpos_0, ypos_0+1*line,r'$M = $'+'{0:.4f}'.format(M),\n",
    "        horizontalalignment='left',\n",
    "        verticalalignment='bottom',\n",
    "        size='small',\n",
    "        bbox=dict(facecolor='white', alpha=0.5),\n",
    "        transform = ax.transAxes)\n",
    "        \n",
    "    ax.text(xpos_0, ypos_0+2*line,r'$\\frac{p_{o}}{p}=$'+'{0:.3f}'.format(p0p_1),\n",
    "        horizontalalignment='left',\n",
    "        verticalalignment='bottom',\n",
    "        size='small',\n",
    "        bbox=dict(facecolor='blue', alpha=0.3),\n",
    "        transform = ax.transAxes)\n",
    "    \n",
    "    ax.text(xpos_0, ypos_0+3*line,r'$\\frac{\\rho_{o}}{\\rho}=$'+'{0:.3f}'.format(rho0_on_rho_1),\n",
    "        horizontalalignment='left',\n",
    "        verticalalignment='bottom',\n",
    "        size='small',\n",
    "        bbox=dict(facecolor='green', alpha=0.3),\n",
    "        transform = ax.transAxes)\n",
    "    \n",
    "    ax.text(xpos_0, ypos_0+4*line,r'$\\frac{T_{o}}{T}=$'+'{0:.3f}'.format(T0_on_T_1),\n",
    "        horizontalalignment='left',\n",
    "        verticalalignment='bottom',\n",
    "        size='small',\n",
    "        bbox=dict(facecolor='Red', alpha=0.3),\n",
    "        transform = ax.transAxes)\n",
    "    ax.legend([tex_rho0_on_rho,tex_p0_on_p,tex_T0_on_T])\n",
    "    \n",
    "    plt.show()\n",
    "    plt.clf()\n",
    "\n",
    "    return rho0_on_rho_1\n",
    "\n",
    "interact(update, M= widgets.FloatSlider(value=1, min=0, max=4, step=0.1,continuous_update=False), \n",
    "                 gamma= widgets.FloatSlider(value=1.4, min=1.1, max=2, step=0.1,continuous_update=False) );\n",
    "\n",
    "#M_max= widgets.IntSlider(value=1, min=1, max=4, step=1,) ,"
   ]
  },
  {
   "cell_type": "code",
   "execution_count": null,
   "metadata": {},
   "outputs": [],
   "source": []
  },
  {
   "cell_type": "code",
   "execution_count": null,
   "metadata": {},
   "outputs": [],
   "source": [
    "M2=0.7\n",
    "gam2=1.4\n",
    "\n",
    "def all_no_q(M2,gam2):\n",
    "    p0_ob = p0_on_p(M2,gam2)\n",
    "    rho0_ob = rho0_on_rho(M2,gam2)\n",
    "    t0_ob = T0_on_T(M2,gam2)\n",
    "    print('M = {}'.format(M2))\n",
    "    print('p0/p = {}'.format(p0_ob))\n",
    "    print('rho0/rho = {}'.format(rho0_ob))\n",
    "    print('t0/t = {}'.format(t0_ob))\n",
    "    return p0_ob,rho0_ob,t0_ob"
   ]
  },
  {
   "cell_type": "code",
   "execution_count": null,
   "metadata": {},
   "outputs": [],
   "source": [
    "p0onp,rho0onrho,t0ont = all_no_q(M2,gam2)"
   ]
  },
  {
   "cell_type": "code",
   "execution_count": null,
   "metadata": {},
   "outputs": [],
   "source": [
    "p0 = p0onp * 0.9*101325\n",
    "print('p0 = {:.3e}'.format(p0))"
   ]
  },
  {
   "cell_type": "code",
   "execution_count": null,
   "metadata": {},
   "outputs": [],
   "source": [
    "t0_t * 250"
   ]
  },
  {
   "cell_type": "code",
   "execution_count": null,
   "metadata": {},
   "outputs": [],
   "source": [
    "p0onp/t0ont"
   ]
  },
  {
   "cell_type": "code",
   "execution_count": null,
   "metadata": {},
   "outputs": [],
   "source": [
    "tex_rho0_on_rho_equals = r'$\\frac{\\rho_0}{\\rho} = $'"
   ]
  },
  {
   "cell_type": "code",
   "execution_count": null,
   "metadata": {},
   "outputs": [],
   "source": [
    "Markdown(tex_rho0_on_rho_equals + '{0:.5e}'.format(123.23121))"
   ]
  },
  {
   "cell_type": "code",
   "execution_count": null,
   "metadata": {},
   "outputs": [],
   "source": []
  },
  {
   "cell_type": "code",
   "execution_count": null,
   "metadata": {},
   "outputs": [],
   "source": [
    "0.9*1.893"
   ]
  },
  {
   "cell_type": "code",
   "execution_count": null,
   "metadata": {},
   "outputs": [],
   "source": [
    "3.857*1.23"
   ]
  },
  {
   "cell_type": "code",
   "execution_count": null,
   "metadata": {},
   "outputs": [],
   "source": [
    "\n",
    "import networkx as nx\n",
    "\n",
    "# wrap a few graph generation functions so they have the same signature\n",
    "\n",
    "def random_lobster(n, m, k, p):\n",
    "    return nx.random_lobster(n, p, p / m)\n",
    "\n",
    "def powerlaw_cluster(n, m, k, p):\n",
    "    return nx.powerlaw_cluster_graph(n, m, p)\n",
    "\n",
    "def erdos_renyi(n, m, k, p):\n",
    "    return nx.erdos_renyi_graph(n, p)\n",
    "\n",
    "def newman_watts_strogatz(n, m, k, p):\n",
    "    return nx.newman_watts_strogatz_graph(n, k, p)\n",
    "\n",
    "def plot_random_graph(n, m, k, p, generator):\n",
    "    g = generator(n, m, k, p)\n",
    "    nx.draw(g)\n",
    "    plt.show()\n",
    "    \n",
    "\n",
    "interact(plot_random_graph, n=(2,30), m=(1,10), k=(1,10), p=(0.0, 1.0, 0.001),\n",
    "         generator={\n",
    "             'lobster': random_lobster,\n",
    "             'power law': powerlaw_cluster,\n",
    "             'Newman-Watts-Strogatz': newman_watts_strogatz,\n",
    "             u'Erdős-Rényi': erdos_renyi,\n",
    "         });"
   ]
  },
  {
   "cell_type": "code",
   "execution_count": null,
   "metadata": {},
   "outputs": [],
   "source": []
  },
  {
   "cell_type": "code",
   "execution_count": null,
   "metadata": {},
   "outputs": [],
   "source": [
    "table = [[\"$M$\",M,'m/m'],\n",
    "         [r\"$\\frac{p}_{p}$\",1],\n",
    "         [\"Moon\",1737],\n",
    "         [\"Mars\",3390]]\n",
    "#display(HTML(tabulate.tabulate(table, tablefmt='html')))\n",
    "#display(Markdown(r'$\\frac{p_{o}}{p}=\\left(1+\\frac{\\gamma-1}{2} M^{2}\\right)^{\\gamma /(\\gamma-1)}$'))\n",
    "display(Markdown(r'$\\frac{p_{o}}{p}=$'+'   =  {0:.6e}'.format(1)))\n",
    "#display(Markdown(r'$\\frac{\\rho_{o}}{\\rho}=\\left(1+\\frac{\\gamma-1}{2} M^{2}\\right)^{1 /(\\gamma-1)}$'))\n",
    "display(Markdown(r'$\\frac{\\rho_{o}}{\\rho}=$'+'   =  {0:.6e}'.format(1)))\n",
    "\n",
    "display(Markdown(r'$\\frac{T_{o}}{T}=1+\\frac{\\gamma-1}{2} M^{2}$'.format(1)))"
   ]
  },
  {
   "cell_type": "code",
   "execution_count": null,
   "metadata": {},
   "outputs": [],
   "source": [
    "import matplotlib.pyplot as plt\n",
    "import numpy as np\n",
    "M_table = np.linspace(0,5,20)\n",
    "\n",
    "plt.figure()\n",
    "plt.plot(M_table,p0_on_p(M_table,M_table*0+1.4))"
   ]
  },
  {
   "cell_type": "code",
   "execution_count": null,
   "metadata": {},
   "outputs": [],
   "source": [
    "from ipywidgets import interact, interactive, fixed, interact_manual\n",
    "import ipywidgets as widgets\n",
    "\n",
    "import matplotlib.pyplot as plt\n",
    "%matplotlib inline\n",
    "\n",
    "import numpy as np\n",
    "\n",
    "def plot_func(freq):\n",
    "    x = np.linspace(0, 2*np.pi)\n",
    "    y = np.sin(x * freq)\n",
    "    plt.plot(x, y)\n",
    "\n",
    "interact(plot_func, freq = widgets.FloatSlider(value=7.5,min=1,max=5.0,step=0.5),\n",
    "         freq1 = widgets.FloatSlider(value=7.5,min=1,max=5.0,step=0.5)\n",
    "        \n",
    "        )"
   ]
  },
  {
   "cell_type": "code",
   "execution_count": null,
   "metadata": {},
   "outputs": [],
   "source": []
  },
  {
   "cell_type": "code",
   "execution_count": null,
   "metadata": {},
   "outputs": [],
   "source": []
  },
  {
   "cell_type": "code",
   "execution_count": null,
   "metadata": {},
   "outputs": [],
   "source": []
  },
  {
   "cell_type": "code",
   "execution_count": null,
   "metadata": {},
   "outputs": [],
   "source": []
  },
  {
   "cell_type": "code",
   "execution_count": null,
   "metadata": {},
   "outputs": [],
   "source": [
    "%matplotlib inline\n",
    "import matplotlib.pyplot as plt\n",
    "from ipywidgets import interact\n",
    "\n",
    "def f(n):\n",
    "    plt.plot([0,1,2],[0,1,n])\n",
    "    plt.show()\n",
    "interact(f,n=(0,10))"
   ]
  },
  {
   "cell_type": "code",
   "execution_count": null,
   "metadata": {},
   "outputs": [],
   "source": [
    "from ipywidgets import *\n",
    "def update(w=0,h=0):\n",
    "    print(h+w)\n",
    "\n",
    "interact(update, w= widgets.IntSlider(value=1, min=0, max=7, step=1) , \n",
    "                 h= widgets.IntSlider(value=1, min=0, max=7, step=1) );\n",
    "\n",
    "\n"
   ]
  },
  {
   "cell_type": "code",
   "execution_count": null,
   "metadata": {},
   "outputs": [],
   "source": []
  }
 ],
 "metadata": {
  "kernelspec": {
   "display_name": "Python 3",
   "language": "python",
   "name": "python3"
  },
  "language_info": {
   "codemirror_mode": {
    "name": "ipython",
    "version": 3
   },
   "file_extension": ".py",
   "mimetype": "text/x-python",
   "name": "python",
   "nbconvert_exporter": "python",
   "pygments_lexer": "ipython3",
   "version": "3.7.4"
  }
 },
 "nbformat": 4,
 "nbformat_minor": 2
}
